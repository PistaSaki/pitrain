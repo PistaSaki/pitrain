{
 "cells": [
  {
   "cell_type": "markdown",
   "metadata": {},
   "source": [
    "We use gradient descent with backtracking.\n",
    "See Nocedal, Wright: pg 37."
   ]
  },
  {
   "cell_type": "code",
   "execution_count": 1,
   "metadata": {
    "ExecuteTime": {
     "end_time": "2018-10-01T15:41:54.266201Z",
     "start_time": "2018-10-01T15:41:52.914174Z"
    }
   },
   "outputs": [],
   "source": [
    "import tensorflow as tf"
   ]
  },
  {
   "cell_type": "code",
   "execution_count": 2,
   "metadata": {
    "ExecuteTime": {
     "end_time": "2018-10-01T15:41:54.272218Z",
     "start_time": "2018-10-01T15:41:54.269203Z"
    }
   },
   "outputs": [],
   "source": [
    "import numpy as np\n",
    "import numpy.random as rnd"
   ]
  },
  {
   "cell_type": "code",
   "execution_count": 3,
   "metadata": {
    "ExecuteTime": {
     "end_time": "2018-10-01T15:41:54.281203Z",
     "start_time": "2018-10-01T15:41:54.274202Z"
    }
   },
   "outputs": [],
   "source": [
    "import itertools as itt"
   ]
  },
  {
   "cell_type": "code",
   "execution_count": 4,
   "metadata": {
    "ExecuteTime": {
     "end_time": "2018-10-01T15:41:54.476208Z",
     "start_time": "2018-10-01T15:41:54.473207Z"
    }
   },
   "outputs": [],
   "source": [
    "import pandas as pd\n",
    "from pandas import Series, DataFrame"
   ]
  },
  {
   "cell_type": "code",
   "execution_count": 5,
   "metadata": {
    "ExecuteTime": {
     "end_time": "2018-10-01T15:41:54.724215Z",
     "start_time": "2018-10-01T15:41:54.720211Z"
    }
   },
   "outputs": [],
   "source": [
    "from IPython.display import display"
   ]
  },
  {
   "cell_type": "code",
   "execution_count": 6,
   "metadata": {
    "ExecuteTime": {
     "end_time": "2018-10-01T15:41:54.974218Z",
     "start_time": "2018-10-01T15:41:54.971217Z"
    }
   },
   "outputs": [],
   "source": [
    "from collections import OrderedDict"
   ]
  },
  {
   "cell_type": "code",
   "execution_count": 7,
   "metadata": {
    "ExecuteTime": {
     "end_time": "2018-10-01T15:41:55.418226Z",
     "start_time": "2018-10-01T15:41:55.248224Z"
    }
   },
   "outputs": [],
   "source": [
    "import matplotlib.pyplot as pl\n",
    "%matplotlib inline"
   ]
  },
  {
   "cell_type": "markdown",
   "metadata": {},
   "source": [
    "# Define the variable and the function"
   ]
  },
  {
   "cell_type": "code",
   "execution_count": 8,
   "metadata": {
    "ExecuteTime": {
     "end_time": "2018-10-01T15:41:56.186243Z",
     "start_time": "2018-10-01T15:41:56.184242Z"
    }
   },
   "outputs": [],
   "source": [
    "floatX = np.float32"
   ]
  },
  {
   "cell_type": "code",
   "execution_count": 9,
   "metadata": {
    "ExecuteTime": {
     "end_time": "2018-10-01T15:42:11.393555Z",
     "start_time": "2018-10-01T15:41:56.632251Z"
    }
   },
   "outputs": [],
   "source": [
    "sess = tf.InteractiveSession()"
   ]
  },
  {
   "cell_type": "code",
   "execution_count": 10,
   "metadata": {
    "ExecuteTime": {
     "end_time": "2018-10-01T15:42:11.414558Z",
     "start_time": "2018-10-01T15:42:11.395556Z"
    }
   },
   "outputs": [],
   "source": [
    "x = tf.Variable(\n",
    "    np.ones(shape = [4, 2]), \n",
    "    name = \"x\", dtype = floatX,\n",
    "    validate_shape = False\n",
    ")\n",
    "x.set_shape([None, 2])\n",
    "sess.run(x.initializer)"
   ]
  },
  {
   "cell_type": "code",
   "execution_count": 11,
   "metadata": {
    "ExecuteTime": {
     "end_time": "2018-10-01T15:42:11.419559Z",
     "start_time": "2018-10-01T15:42:11.416557Z"
    }
   },
   "outputs": [],
   "source": [
    "x_min = np.array([\n",
    "    [0, 0],\n",
    "    [3, 3],\n",
    "    [3, 0],\n",
    "    [0, 3],\n",
    "], dtype = floatX)"
   ]
  },
  {
   "cell_type": "code",
   "execution_count": 12,
   "metadata": {
    "ExecuteTime": {
     "end_time": "2018-10-01T15:42:11.426557Z",
     "start_time": "2018-10-01T15:42:11.421555Z"
    }
   },
   "outputs": [],
   "source": [
    "def fun(x, name = \"fun\"):\n",
    "    return tf.reduce_sum((x - x_min)**2, axis = -1, name = name)"
   ]
  },
  {
   "cell_type": "code",
   "execution_count": 13,
   "metadata": {
    "ExecuteTime": {
     "end_time": "2018-10-01T15:42:11.437559Z",
     "start_time": "2018-10-01T15:42:11.428556Z"
    }
   },
   "outputs": [],
   "source": [
    "f = fun(x, name = \"f\")"
   ]
  },
  {
   "cell_type": "code",
   "execution_count": 14,
   "metadata": {
    "ExecuteTime": {
     "end_time": "2018-10-01T15:42:11.462559Z",
     "start_time": "2018-10-01T15:42:11.438557Z"
    }
   },
   "outputs": [],
   "source": [
    "df = tf.gradients(f, x)[0]"
   ]
  },
  {
   "cell_type": "code",
   "execution_count": 15,
   "metadata": {
    "ExecuteTime": {
     "end_time": "2018-10-01T15:42:11.470558Z",
     "start_time": "2018-10-01T15:42:11.464558Z"
    }
   },
   "outputs": [],
   "source": [
    "def plot_f_and_x(f, x, xxx = np.linspace(-5, 5, 30), yyy = None):\n",
    "    ## plot f\n",
    "    if yyy is None:\n",
    "        yyy = xxx\n",
    "        \n",
    "    N, dim = sess.run(x).shape\n",
    "    assert dim == 2\n",
    "    \n",
    "    vals = np.empty([N, len(xxx), len(yyy)])\n",
    "    for i, xx in enumerate(xxx):\n",
    "        for j, yy in enumerate(yyy):\n",
    "            vals[:, i, j] = sess.run(f, {x: np.ones([N, 1]) * [xx,yy]})\n",
    "        \n",
    "    columns = 2\n",
    "    rows = int(np.ceil(N / columns))\n",
    "    fig, axs = pl.subplots(rows, columns, figsize = [columns * 4, rows * 4])\n",
    "    \n",
    "    for val, ax in zip(vals, axs.flat):\n",
    "        ax.pcolormesh(xxx, yyy, val.T)\n",
    "        \n",
    "    ## plot x\n",
    "    for ax, xx in zip(axs.flat, sess.run(x)):\n",
    "        ax.scatter(*xx)\n",
    "\n",
    "    return axs"
   ]
  },
  {
   "cell_type": "code",
   "execution_count": 16,
   "metadata": {
    "ExecuteTime": {
     "end_time": "2018-10-01T15:42:12.131573Z",
     "start_time": "2018-10-01T15:42:11.472557Z"
    }
   },
   "outputs": [
    {
     "data": {
      "text/plain": [
       "array([[<matplotlib.axes._subplots.AxesSubplot object at 0x00000200BB0DF4A8>,\n",
       "        <matplotlib.axes._subplots.AxesSubplot object at 0x00000200CA7D35C0>],\n",
       "       [<matplotlib.axes._subplots.AxesSubplot object at 0x00000200CA7FDC50>,\n",
       "        <matplotlib.axes._subplots.AxesSubplot object at 0x00000200CA82E320>]], dtype=object)"
      ]
     },
     "execution_count": 16,
     "metadata": {},
     "output_type": "execute_result"
    },
    {
     "data": {
      "image/png": "[encoded data removed]",
      "text/plain": [
       "<Figure size 576x576 with 4 Axes>"
      ]
     },
     "metadata": {},
     "output_type": "display_data"
    }
   ],
   "source": [
    "plot_f_and_x(f, x)"
   ]
  },
  {
   "cell_type": "markdown",
   "metadata": {},
   "source": [
    "# Optimize with gradient descent"
   ]
  },
  {
   "cell_type": "code",
   "execution_count": 17,
   "metadata": {
    "ExecuteTime": {
     "end_time": "2018-10-01T15:42:13.627605Z",
     "start_time": "2018-10-01T15:42:13.616603Z"
    }
   },
   "outputs": [],
   "source": [
    "from pitrain.gradient_descent_with_backtracking import GragientDescentWithBacktracking"
   ]
  },
  {
   "cell_type": "code",
   "execution_count": 18,
   "metadata": {
    "ExecuteTime": {
     "end_time": "2018-10-01T15:42:14.202615Z",
     "start_time": "2018-10-01T15:42:14.096613Z"
    }
   },
   "outputs": [],
   "source": [
    "optimizer = GragientDescentWithBacktracking.from_scratch(x = x, f = f, df = df, name = \"grad_desc\")\n",
    "#     optimizer.initializer = optimizer.construct_initializer(initial_step_length=1)\n",
    "#     optimizer.step_sequence = optimizer.construct_step_sequence()"
   ]
  },
  {
   "cell_type": "code",
   "execution_count": 19,
   "metadata": {
    "ExecuteTime": {
     "end_time": "2018-10-01T15:42:14.354619Z",
     "start_time": "2018-10-01T15:42:14.327617Z"
    }
   },
   "outputs": [
    {
     "name": "stdout",
     "output_type": "stream",
     "text": [
      "[ 2.  8.  5.  5.]\n"
     ]
    }
   ],
   "source": [
    "sess.run(x.initializer)\n",
    "optimizer.run_initializer()\n",
    "print(sess.run(f))"
   ]
  },
  {
   "cell_type": "code",
   "execution_count": 20,
   "metadata": {
    "ExecuteTime": {
     "end_time": "2018-10-01T15:42:15.417640Z",
     "start_time": "2018-10-01T15:42:14.535622Z"
    }
   },
   "outputs": [
    {
     "name": "stdout",
     "output_type": "stream",
     "text": [
      "[ 0.17157288  3.34314561  1.52786422  1.52786422]\n"
     ]
    },
    {
     "data": {
      "image/png": "[encoded data removed]",
      "text/plain": [
       "<Figure size 576x576 with 4 Axes>"
      ]
     },
     "metadata": {},
     "output_type": "display_data"
    }
   ],
   "source": [
    "optimizer.run_train_step()\n",
    "plot_f_and_x(f, x)\n",
    "print(sess.run(f))"
   ]
  },
  {
   "cell_type": "markdown",
   "metadata": {},
   "source": [
    "### Restore the optimizer from the graph"
   ]
  },
  {
   "cell_type": "code",
   "execution_count": 21,
   "metadata": {
    "ExecuteTime": {
     "end_time": "2018-10-01T15:42:16.163655Z",
     "start_time": "2018-10-01T15:42:16.159655Z"
    }
   },
   "outputs": [],
   "source": [
    "opt2 = GragientDescentWithBacktracking.find_in_graph(\"grad_desc\")"
   ]
  },
  {
   "cell_type": "code",
   "execution_count": 22,
   "metadata": {
    "ExecuteTime": {
     "end_time": "2018-10-01T15:42:16.435663Z",
     "start_time": "2018-10-01T15:42:16.431660Z"
    }
   },
   "outputs": [],
   "source": [
    "opt2.run_initializer()"
   ]
  },
  {
   "cell_type": "code",
   "execution_count": 23,
   "metadata": {
    "ExecuteTime": {
     "end_time": "2018-10-01T15:42:16.653725Z",
     "start_time": "2018-10-01T15:42:16.648667Z"
    }
   },
   "outputs": [
    {
     "name": "stdout",
     "output_type": "stream",
     "text": [
      "[ 2.  8.  5.  5.]\n"
     ]
    }
   ],
   "source": [
    "sess.run(x.initializer)\n",
    "opt2.run_initializer()\n",
    "print(sess.run(f))"
   ]
  },
  {
   "cell_type": "code",
   "execution_count": 24,
   "metadata": {
    "ExecuteTime": {
     "end_time": "2018-10-01T15:42:16.854671Z",
     "start_time": "2018-10-01T15:42:16.847672Z"
    }
   },
   "outputs": [
    {
     "name": "stdout",
     "output_type": "stream",
     "text": [
      "[ 0.17157288  3.34314561  1.52786422  1.52786422]\n"
     ]
    }
   ],
   "source": [
    "opt2.run_train_step()\n",
    "#plot_f_and_x(f, x)\n",
    "print(sess.run(f))"
   ]
  },
  {
   "cell_type": "markdown",
   "metadata": {},
   "source": [
    "# Brute Froce"
   ]
  },
  {
   "cell_type": "code",
   "execution_count": 25,
   "metadata": {
    "ExecuteTime": {
     "end_time": "2018-10-01T15:42:17.250677Z",
     "start_time": "2018-10-01T15:42:17.239676Z"
    }
   },
   "outputs": [],
   "source": [
    "from pitrain.brute_force_optimization import BruteForceOptimization"
   ]
  },
  {
   "cell_type": "code",
   "execution_count": 26,
   "metadata": {
    "ExecuteTime": {
     "end_time": "2018-10-01T15:42:17.487686Z",
     "start_time": "2018-10-01T15:42:17.439682Z"
    }
   },
   "outputs": [],
   "source": [
    "brute = BruteForceOptimization.from_scratch(f, x, name = \"brute\")"
   ]
  },
  {
   "cell_type": "code",
   "execution_count": 27,
   "metadata": {
    "ExecuteTime": {
     "end_time": "2018-10-01T15:42:17.706687Z",
     "start_time": "2018-10-01T15:42:17.639687Z"
    }
   },
   "outputs": [
    {
     "name": "stdout",
     "output_type": "stream",
     "text": [
      "[ 2.  8.  5.  5.]\n",
      "[array([ 0.,  2.,  1.,  1.], dtype=float32), array([[ 0.,  0.],\n",
      "       [ 2.,  2.],\n",
      "       [ 2.,  0.],\n",
      "       [ 0.,  2.]], dtype=float32)]\n"
     ]
    }
   ],
   "source": [
    "sess.run(x.initializer)\n",
    "brute.run_initializer()\n",
    "\n",
    "xxx = np.mgrid[-4:4:5j, -4:4:5j].reshape(2, -1).T\n",
    "\n",
    "print(sess.run(f))\n",
    "for x_prop in xxx:\n",
    "    brute.run_train_step(x_prop)\n",
    "print(sess.run([f, x]))\n"
   ]
  },
  {
   "cell_type": "markdown",
   "metadata": {},
   "source": [
    "### Restore the optimizer from the graph"
   ]
  },
  {
   "cell_type": "code",
   "execution_count": 28,
   "metadata": {
    "ExecuteTime": {
     "end_time": "2018-10-01T15:42:18.050694Z",
     "start_time": "2018-10-01T15:42:18.047695Z"
    }
   },
   "outputs": [],
   "source": [
    "brute2 = BruteForceOptimization.find_in_graph(\"brute\")"
   ]
  },
  {
   "cell_type": "code",
   "execution_count": 29,
   "metadata": {
    "ExecuteTime": {
     "end_time": "2018-10-01T15:42:18.243698Z",
     "start_time": "2018-10-01T15:42:18.240699Z"
    }
   },
   "outputs": [
    {
     "data": {
      "text/plain": [
       "<pitrain.brute_force_optimization.BruteForceOptimization at 0x200da8ee940>"
      ]
     },
     "execution_count": 29,
     "metadata": {},
     "output_type": "execute_result"
    }
   ],
   "source": [
    "brute2"
   ]
  },
  {
   "cell_type": "code",
   "execution_count": 30,
   "metadata": {
    "ExecuteTime": {
     "end_time": "2018-10-01T15:42:18.488705Z",
     "start_time": "2018-10-01T15:42:18.447704Z"
    }
   },
   "outputs": [
    {
     "name": "stdout",
     "output_type": "stream",
     "text": [
      "[ 2.  8.  5.  5.]\n",
      "[array([ 0.,  2.,  1.,  1.], dtype=float32), array([[ 0.,  0.],\n",
      "       [ 2.,  2.],\n",
      "       [ 2.,  0.],\n",
      "       [ 0.,  2.]], dtype=float32)]\n"
     ]
    }
   ],
   "source": [
    "sess.run(x.initializer)\n",
    "brute2.run_initializer()\n",
    "\n",
    "xxx = np.mgrid[-4:4:5j, -4:4:5j].reshape(2, -1).T\n",
    "\n",
    "print(sess.run(f))\n",
    "for x_prop in xxx:\n",
    "    brute2.run_train_step(x_prop)\n",
    "print(sess.run([f, x]))\n"
   ]
  },
  {
   "cell_type": "markdown",
   "metadata": {},
   "source": [
    "# Saving and restoring model with optimizers"
   ]
  },
  {
   "cell_type": "markdown",
   "metadata": {},
   "source": [
    "## Save model"
   ]
  },
  {
   "cell_type": "code",
   "execution_count": 31,
   "metadata": {
    "ExecuteTime": {
     "end_time": "2018-10-01T15:42:19.208718Z",
     "start_time": "2018-10-01T15:42:19.047714Z"
    }
   },
   "outputs": [
    {
     "ename": "PermissionDeniedError",
     "evalue": "Failed to create a directory: D:; Permission denied",
     "output_type": "error",
     "traceback": [
      "\u001b[1;31m---------------------------------------------------------------------------\u001b[0m",
      "\u001b[1;31mPermissionDeniedError\u001b[0m                     Traceback (most recent call last)",
      "\u001b[1;32m<ipython-input-31-0eadd2f85631>\u001b[0m in \u001b[0;36m<module>\u001b[1;34m()\u001b[0m\n\u001b[0;32m      1\u001b[0m \u001b[0mout_dir\u001b[0m \u001b[1;33m=\u001b[0m \u001b[1;34mr\"D:\\tmp\\saved_model_test_01\"\u001b[0m\u001b[1;33m\u001b[0m\u001b[0m\n\u001b[1;32m----> 2\u001b[1;33m \u001b[0mbuilder\u001b[0m \u001b[1;33m=\u001b[0m \u001b[0mtf\u001b[0m\u001b[1;33m.\u001b[0m\u001b[0msaved_model\u001b[0m\u001b[1;33m.\u001b[0m\u001b[0mbuilder\u001b[0m\u001b[1;33m.\u001b[0m\u001b[0mSavedModelBuilder\u001b[0m\u001b[1;33m(\u001b[0m\u001b[0mout_dir\u001b[0m\u001b[1;33m)\u001b[0m\u001b[1;33m\u001b[0m\u001b[0m\n\u001b[0m\u001b[0;32m      3\u001b[0m \u001b[0mbuilder\u001b[0m\u001b[1;33m.\u001b[0m\u001b[0madd_meta_graph_and_variables\u001b[0m\u001b[1;33m(\u001b[0m\u001b[0msess\u001b[0m\u001b[1;33m,\u001b[0m \u001b[0mtags\u001b[0m \u001b[1;33m=\u001b[0m \u001b[1;33m[\u001b[0m\u001b[0mtf\u001b[0m\u001b[1;33m.\u001b[0m\u001b[0msaved_model\u001b[0m\u001b[1;33m.\u001b[0m\u001b[0mtag_constants\u001b[0m\u001b[1;33m.\u001b[0m\u001b[0mSERVING\u001b[0m\u001b[1;33m]\u001b[0m\u001b[1;33m)\u001b[0m\u001b[1;33m\u001b[0m\u001b[0m\n\u001b[0;32m      4\u001b[0m \u001b[0mbuilder\u001b[0m\u001b[1;33m.\u001b[0m\u001b[0msave\u001b[0m\u001b[1;33m(\u001b[0m\u001b[1;33m)\u001b[0m\u001b[1;33m\u001b[0m\u001b[0m\n",
      "\u001b[1;32mE:\\Pista\\WinPython\\python-3.6.5.amd64\\lib\\site-packages\\tensorflow\\python\\saved_model\\builder_impl.py\u001b[0m in \u001b[0;36m__init__\u001b[1;34m(self, export_dir)\u001b[0m\n\u001b[0;32m     90\u001b[0m           \"directory: %s\" % export_dir)\n\u001b[0;32m     91\u001b[0m \u001b[1;33m\u001b[0m\u001b[0m\n\u001b[1;32m---> 92\u001b[1;33m     \u001b[0mfile_io\u001b[0m\u001b[1;33m.\u001b[0m\u001b[0mrecursive_create_dir\u001b[0m\u001b[1;33m(\u001b[0m\u001b[0mself\u001b[0m\u001b[1;33m.\u001b[0m\u001b[0m_export_dir\u001b[0m\u001b[1;33m)\u001b[0m\u001b[1;33m\u001b[0m\u001b[0m\n\u001b[0m\u001b[0;32m     93\u001b[0m \u001b[1;33m\u001b[0m\u001b[0m\n\u001b[0;32m     94\u001b[0m     \u001b[1;31m# Boolean to track whether variables and assets corresponding to the\u001b[0m\u001b[1;33m\u001b[0m\u001b[1;33m\u001b[0m\u001b[0m\n",
      "\u001b[1;32mE:\\Pista\\WinPython\\python-3.6.5.amd64\\lib\\site-packages\\tensorflow\\python\\lib\\io\\file_io.py\u001b[0m in \u001b[0;36mrecursive_create_dir\u001b[1;34m(dirname)\u001b[0m\n\u001b[0;32m    372\u001b[0m   \"\"\"\n\u001b[0;32m    373\u001b[0m   \u001b[1;32mwith\u001b[0m \u001b[0merrors\u001b[0m\u001b[1;33m.\u001b[0m\u001b[0mraise_exception_on_not_ok_status\u001b[0m\u001b[1;33m(\u001b[0m\u001b[1;33m)\u001b[0m \u001b[1;32mas\u001b[0m \u001b[0mstatus\u001b[0m\u001b[1;33m:\u001b[0m\u001b[1;33m\u001b[0m\u001b[0m\n\u001b[1;32m--> 374\u001b[1;33m     \u001b[0mpywrap_tensorflow\u001b[0m\u001b[1;33m.\u001b[0m\u001b[0mRecursivelyCreateDir\u001b[0m\u001b[1;33m(\u001b[0m\u001b[0mcompat\u001b[0m\u001b[1;33m.\u001b[0m\u001b[0mas_bytes\u001b[0m\u001b[1;33m(\u001b[0m\u001b[0mdirname\u001b[0m\u001b[1;33m)\u001b[0m\u001b[1;33m,\u001b[0m \u001b[0mstatus\u001b[0m\u001b[1;33m)\u001b[0m\u001b[1;33m\u001b[0m\u001b[0m\n\u001b[0m\u001b[0;32m    375\u001b[0m \u001b[1;33m\u001b[0m\u001b[0m\n\u001b[0;32m    376\u001b[0m \u001b[1;33m\u001b[0m\u001b[0m\n",
      "\u001b[1;32mE:\\Pista\\WinPython\\python-3.6.5.amd64\\lib\\site-packages\\tensorflow\\python\\framework\\errors_impl.py\u001b[0m in \u001b[0;36m__exit__\u001b[1;34m(self, type_arg, value_arg, traceback_arg)\u001b[0m\n\u001b[0;32m    514\u001b[0m             \u001b[1;32mNone\u001b[0m\u001b[1;33m,\u001b[0m \u001b[1;32mNone\u001b[0m\u001b[1;33m,\u001b[0m\u001b[1;33m\u001b[0m\u001b[0m\n\u001b[0;32m    515\u001b[0m             \u001b[0mcompat\u001b[0m\u001b[1;33m.\u001b[0m\u001b[0mas_text\u001b[0m\u001b[1;33m(\u001b[0m\u001b[0mc_api\u001b[0m\u001b[1;33m.\u001b[0m\u001b[0mTF_Message\u001b[0m\u001b[1;33m(\u001b[0m\u001b[0mself\u001b[0m\u001b[1;33m.\u001b[0m\u001b[0mstatus\u001b[0m\u001b[1;33m.\u001b[0m\u001b[0mstatus\u001b[0m\u001b[1;33m)\u001b[0m\u001b[1;33m)\u001b[0m\u001b[1;33m,\u001b[0m\u001b[1;33m\u001b[0m\u001b[0m\n\u001b[1;32m--> 516\u001b[1;33m             c_api.TF_GetCode(self.status.status))\n\u001b[0m\u001b[0;32m    517\u001b[0m     \u001b[1;31m# Delete the underlying status object from memory otherwise it stays alive\u001b[0m\u001b[1;33m\u001b[0m\u001b[1;33m\u001b[0m\u001b[0m\n\u001b[0;32m    518\u001b[0m     \u001b[1;31m# as there is a reference to status from this from the traceback due to\u001b[0m\u001b[1;33m\u001b[0m\u001b[1;33m\u001b[0m\u001b[0m\n",
      "\u001b[1;31mPermissionDeniedError\u001b[0m: Failed to create a directory: D:; Permission denied"
     ]
    }
   ],
   "source": [
    "out_dir = r\"D:\\tmp\\saved_model_test_01\"\n",
    "builder = tf.saved_model.builder.SavedModelBuilder(out_dir)\n",
    "builder.add_meta_graph_and_variables(sess, tags = [tf.saved_model.tag_constants.SERVING])\n",
    "builder.save()"
   ]
  },
  {
   "cell_type": "markdown",
   "metadata": {},
   "source": [
    "## Load"
   ]
  },
  {
   "cell_type": "code",
   "execution_count": 32,
   "metadata": {
    "ExecuteTime": {
     "end_time": "2018-10-01T15:42:19.458726Z",
     "start_time": "2018-10-01T15:42:19.423724Z"
    }
   },
   "outputs": [],
   "source": [
    "tf.reset_default_graph()\n",
    "\n",
    "sess.close()\n",
    "sess = tf.InteractiveSession()"
   ]
  },
  {
   "cell_type": "code",
   "execution_count": 33,
   "metadata": {
    "ExecuteTime": {
     "end_time": "2018-10-01T15:42:19.629728Z",
     "start_time": "2018-10-01T15:42:19.607727Z"
    }
   },
   "outputs": [
    {
     "ename": "OSError",
     "evalue": "SavedModel file does not exist at: D:\\tmp\\saved_model_test_01/{saved_model.pbtxt|saved_model.pb}",
     "output_type": "error",
     "traceback": [
      "\u001b[1;31m---------------------------------------------------------------------------\u001b[0m",
      "\u001b[1;31mOSError\u001b[0m                                   Traceback (most recent call last)",
      "\u001b[1;32m<ipython-input-33-ec4c4e7f12c7>\u001b[0m in \u001b[0;36m<module>\u001b[1;34m()\u001b[0m\n\u001b[1;32m----> 1\u001b[1;33m \u001b[0mtf\u001b[0m\u001b[1;33m.\u001b[0m\u001b[0msaved_model\u001b[0m\u001b[1;33m.\u001b[0m\u001b[0mloader\u001b[0m\u001b[1;33m.\u001b[0m\u001b[0mload\u001b[0m\u001b[1;33m(\u001b[0m\u001b[0msess\u001b[0m\u001b[1;33m,\u001b[0m \u001b[0mtags\u001b[0m \u001b[1;33m=\u001b[0m \u001b[1;33m[\u001b[0m\u001b[0mtf\u001b[0m\u001b[1;33m.\u001b[0m\u001b[0msaved_model\u001b[0m\u001b[1;33m.\u001b[0m\u001b[0mtag_constants\u001b[0m\u001b[1;33m.\u001b[0m\u001b[0mSERVING\u001b[0m\u001b[1;33m]\u001b[0m\u001b[1;33m,\u001b[0m \u001b[0mexport_dir\u001b[0m\u001b[1;33m=\u001b[0m\u001b[0mout_dir\u001b[0m\u001b[1;33m)\u001b[0m\u001b[1;33m;\u001b[0m\u001b[1;33m\u001b[0m\u001b[0m\n\u001b[0m",
      "\u001b[1;32mE:\\Pista\\WinPython\\python-3.6.5.amd64\\lib\\site-packages\\tensorflow\\python\\saved_model\\loader_impl.py\u001b[0m in \u001b[0;36mload\u001b[1;34m(sess, tags, export_dir, **saver_kwargs)\u001b[0m\n\u001b[0;32m    201\u001b[0m   \u001b[1;32mwith\u001b[0m \u001b[0msess\u001b[0m\u001b[1;33m.\u001b[0m\u001b[0mgraph\u001b[0m\u001b[1;33m.\u001b[0m\u001b[0mas_default\u001b[0m\u001b[1;33m(\u001b[0m\u001b[1;33m)\u001b[0m\u001b[1;33m:\u001b[0m\u001b[1;33m\u001b[0m\u001b[0m\n\u001b[0;32m    202\u001b[0m     \u001b[1;31m# Build the SavedModel protocol buffer and find requested meta graph def.\u001b[0m\u001b[1;33m\u001b[0m\u001b[1;33m\u001b[0m\u001b[0m\n\u001b[1;32m--> 203\u001b[1;33m     \u001b[0msaved_model\u001b[0m \u001b[1;33m=\u001b[0m \u001b[0m_parse_saved_model\u001b[0m\u001b[1;33m(\u001b[0m\u001b[0mexport_dir\u001b[0m\u001b[1;33m)\u001b[0m\u001b[1;33m\u001b[0m\u001b[0m\n\u001b[0m\u001b[0;32m    204\u001b[0m     \u001b[0mfound_match\u001b[0m \u001b[1;33m=\u001b[0m \u001b[1;32mFalse\u001b[0m\u001b[1;33m\u001b[0m\u001b[0m\n\u001b[0;32m    205\u001b[0m     \u001b[1;32mfor\u001b[0m \u001b[0mmeta_graph_def\u001b[0m \u001b[1;32min\u001b[0m \u001b[0msaved_model\u001b[0m\u001b[1;33m.\u001b[0m\u001b[0mmeta_graphs\u001b[0m\u001b[1;33m:\u001b[0m\u001b[1;33m\u001b[0m\u001b[0m\n",
      "\u001b[1;32mE:\\Pista\\WinPython\\python-3.6.5.amd64\\lib\\site-packages\\tensorflow\\python\\saved_model\\loader_impl.py\u001b[0m in \u001b[0;36m_parse_saved_model\u001b[1;34m(export_dir)\u001b[0m\n\u001b[0;32m     77\u001b[0m                   (export_dir,\n\u001b[0;32m     78\u001b[0m                    \u001b[0mconstants\u001b[0m\u001b[1;33m.\u001b[0m\u001b[0mSAVED_MODEL_FILENAME_PBTXT\u001b[0m\u001b[1;33m,\u001b[0m\u001b[1;33m\u001b[0m\u001b[0m\n\u001b[1;32m---> 79\u001b[1;33m                    constants.SAVED_MODEL_FILENAME_PB))\n\u001b[0m\u001b[0;32m     80\u001b[0m \u001b[1;33m\u001b[0m\u001b[0m\n\u001b[0;32m     81\u001b[0m \u001b[1;33m\u001b[0m\u001b[0m\n",
      "\u001b[1;31mOSError\u001b[0m: SavedModel file does not exist at: D:\\tmp\\saved_model_test_01/{saved_model.pbtxt|saved_model.pb}"
     ]
    }
   ],
   "source": [
    "tf.saved_model.loader.load(sess, tags = [tf.saved_model.tag_constants.SERVING], export_dir=out_dir);"
   ]
  },
  {
   "cell_type": "markdown",
   "metadata": {},
   "source": [
    "## Find model in loaded graph"
   ]
  },
  {
   "cell_type": "code",
   "execution_count": 34,
   "metadata": {
    "ExecuteTime": {
     "end_time": "2018-10-01T15:42:20.011736Z",
     "start_time": "2018-10-01T15:42:19.999735Z"
    }
   },
   "outputs": [
    {
     "ename": "KeyError",
     "evalue": "\"The name 'x:0' refers to a Tensor which does not exist. The operation, 'x', does not exist in the graph.\"",
     "output_type": "error",
     "traceback": [
      "\u001b[1;31m---------------------------------------------------------------------------\u001b[0m",
      "\u001b[1;31mKeyError\u001b[0m                                  Traceback (most recent call last)",
      "\u001b[1;32m<ipython-input-34-4771ea746647>\u001b[0m in \u001b[0;36m<module>\u001b[1;34m()\u001b[0m\n\u001b[0;32m      1\u001b[0m \u001b[0mgr\u001b[0m \u001b[1;33m=\u001b[0m \u001b[0mtf\u001b[0m\u001b[1;33m.\u001b[0m\u001b[0mget_default_graph\u001b[0m\u001b[1;33m(\u001b[0m\u001b[1;33m)\u001b[0m\u001b[1;33m\u001b[0m\u001b[0m\n\u001b[0;32m      2\u001b[0m \u001b[1;33m\u001b[0m\u001b[0m\n\u001b[1;32m----> 3\u001b[1;33m \u001b[0mx\u001b[0m \u001b[1;33m=\u001b[0m \u001b[0mgr\u001b[0m\u001b[1;33m.\u001b[0m\u001b[0mget_tensor_by_name\u001b[0m\u001b[1;33m(\u001b[0m\u001b[1;34m\"x:0\"\u001b[0m\u001b[1;33m)\u001b[0m\u001b[1;33m\u001b[0m\u001b[0m\n\u001b[0m\u001b[0;32m      4\u001b[0m \u001b[0mx\u001b[0m\u001b[1;33m.\u001b[0m\u001b[0minitializer\u001b[0m \u001b[1;33m=\u001b[0m \u001b[0mgr\u001b[0m\u001b[1;33m.\u001b[0m\u001b[0mget_operation_by_name\u001b[0m\u001b[1;33m(\u001b[0m\u001b[1;34m\"x/Assign\"\u001b[0m\u001b[1;33m)\u001b[0m\u001b[1;33m\u001b[0m\u001b[0m\n\u001b[0;32m      5\u001b[0m \u001b[1;33m\u001b[0m\u001b[0m\n",
      "\u001b[1;32mE:\\Pista\\WinPython\\python-3.6.5.amd64\\lib\\site-packages\\tensorflow\\python\\framework\\ops.py\u001b[0m in \u001b[0;36mget_tensor_by_name\u001b[1;34m(self, name)\u001b[0m\n\u001b[0;32m   3652\u001b[0m       raise TypeError(\"Tensor names are strings (or similar), not %s.\" %\n\u001b[0;32m   3653\u001b[0m                       type(name).__name__)\n\u001b[1;32m-> 3654\u001b[1;33m     \u001b[1;32mreturn\u001b[0m \u001b[0mself\u001b[0m\u001b[1;33m.\u001b[0m\u001b[0mas_graph_element\u001b[0m\u001b[1;33m(\u001b[0m\u001b[0mname\u001b[0m\u001b[1;33m,\u001b[0m \u001b[0mallow_tensor\u001b[0m\u001b[1;33m=\u001b[0m\u001b[1;32mTrue\u001b[0m\u001b[1;33m,\u001b[0m \u001b[0mallow_operation\u001b[0m\u001b[1;33m=\u001b[0m\u001b[1;32mFalse\u001b[0m\u001b[1;33m)\u001b[0m\u001b[1;33m\u001b[0m\u001b[0m\n\u001b[0m\u001b[0;32m   3655\u001b[0m \u001b[1;33m\u001b[0m\u001b[0m\n\u001b[0;32m   3656\u001b[0m   \u001b[1;32mdef\u001b[0m \u001b[0m_get_tensor_by_tf_output\u001b[0m\u001b[1;33m(\u001b[0m\u001b[0mself\u001b[0m\u001b[1;33m,\u001b[0m \u001b[0mtf_output\u001b[0m\u001b[1;33m)\u001b[0m\u001b[1;33m:\u001b[0m\u001b[1;33m\u001b[0m\u001b[0m\n",
      "\u001b[1;32mE:\\Pista\\WinPython\\python-3.6.5.amd64\\lib\\site-packages\\tensorflow\\python\\framework\\ops.py\u001b[0m in \u001b[0;36mas_graph_element\u001b[1;34m(self, obj, allow_tensor, allow_operation)\u001b[0m\n\u001b[0;32m   3476\u001b[0m \u001b[1;33m\u001b[0m\u001b[0m\n\u001b[0;32m   3477\u001b[0m     \u001b[1;32mwith\u001b[0m \u001b[0mself\u001b[0m\u001b[1;33m.\u001b[0m\u001b[0m_lock\u001b[0m\u001b[1;33m:\u001b[0m\u001b[1;33m\u001b[0m\u001b[0m\n\u001b[1;32m-> 3478\u001b[1;33m       \u001b[1;32mreturn\u001b[0m \u001b[0mself\u001b[0m\u001b[1;33m.\u001b[0m\u001b[0m_as_graph_element_locked\u001b[0m\u001b[1;33m(\u001b[0m\u001b[0mobj\u001b[0m\u001b[1;33m,\u001b[0m \u001b[0mallow_tensor\u001b[0m\u001b[1;33m,\u001b[0m \u001b[0mallow_operation\u001b[0m\u001b[1;33m)\u001b[0m\u001b[1;33m\u001b[0m\u001b[0m\n\u001b[0m\u001b[0;32m   3479\u001b[0m \u001b[1;33m\u001b[0m\u001b[0m\n\u001b[0;32m   3480\u001b[0m   \u001b[1;32mdef\u001b[0m \u001b[0m_as_graph_element_locked\u001b[0m\u001b[1;33m(\u001b[0m\u001b[0mself\u001b[0m\u001b[1;33m,\u001b[0m \u001b[0mobj\u001b[0m\u001b[1;33m,\u001b[0m \u001b[0mallow_tensor\u001b[0m\u001b[1;33m,\u001b[0m \u001b[0mallow_operation\u001b[0m\u001b[1;33m)\u001b[0m\u001b[1;33m:\u001b[0m\u001b[1;33m\u001b[0m\u001b[0m\n",
      "\u001b[1;32mE:\\Pista\\WinPython\\python-3.6.5.amd64\\lib\\site-packages\\tensorflow\\python\\framework\\ops.py\u001b[0m in \u001b[0;36m_as_graph_element_locked\u001b[1;34m(self, obj, allow_tensor, allow_operation)\u001b[0m\n\u001b[0;32m   3518\u001b[0m           raise KeyError(\"The name %s refers to a Tensor which does not \"\n\u001b[0;32m   3519\u001b[0m                          \u001b[1;34m\"exist. The operation, %s, does not exist in the \"\u001b[0m\u001b[1;33m\u001b[0m\u001b[0m\n\u001b[1;32m-> 3520\u001b[1;33m                          \"graph.\" % (repr(name), repr(op_name)))\n\u001b[0m\u001b[0;32m   3521\u001b[0m         \u001b[1;32mtry\u001b[0m\u001b[1;33m:\u001b[0m\u001b[1;33m\u001b[0m\u001b[0m\n\u001b[0;32m   3522\u001b[0m           \u001b[1;32mreturn\u001b[0m \u001b[0mop\u001b[0m\u001b[1;33m.\u001b[0m\u001b[0moutputs\u001b[0m\u001b[1;33m[\u001b[0m\u001b[0mout_n\u001b[0m\u001b[1;33m]\u001b[0m\u001b[1;33m\u001b[0m\u001b[0m\n",
      "\u001b[1;31mKeyError\u001b[0m: \"The name 'x:0' refers to a Tensor which does not exist. The operation, 'x', does not exist in the graph.\""
     ]
    }
   ],
   "source": [
    "gr = tf.get_default_graph()\n",
    "\n",
    "x = gr.get_tensor_by_name(\"x:0\")\n",
    "x.initializer = gr.get_operation_by_name(\"x/Assign\")\n",
    "\n",
    "f = gr.get_tensor_by_name(\"f:0\")"
   ]
  },
  {
   "cell_type": "code",
   "execution_count": 35,
   "metadata": {
    "ExecuteTime": {
     "end_time": "2018-10-01T15:42:20.205740Z",
     "start_time": "2018-10-01T15:42:20.191738Z"
    }
   },
   "outputs": [
    {
     "ename": "KeyError",
     "evalue": "\"The name 'brute/initializer' refers to an Operation not in the graph.\"",
     "output_type": "error",
     "traceback": [
      "\u001b[1;31m---------------------------------------------------------------------------\u001b[0m",
      "\u001b[1;31mKeyError\u001b[0m                                  Traceback (most recent call last)",
      "\u001b[1;32m<ipython-input-35-8da0eba322bc>\u001b[0m in \u001b[0;36m<module>\u001b[1;34m()\u001b[0m\n\u001b[1;32m----> 1\u001b[1;33m \u001b[0mbrute\u001b[0m \u001b[1;33m=\u001b[0m \u001b[0mBruteForceOptimization\u001b[0m\u001b[1;33m.\u001b[0m\u001b[0mfind_in_graph\u001b[0m\u001b[1;33m(\u001b[0m\u001b[1;34m\"brute\"\u001b[0m\u001b[1;33m)\u001b[0m\u001b[1;33m\u001b[0m\u001b[0m\n\u001b[0m",
      "\u001b[1;32mE:\\Pista\\python_source\\pitrain\\pitrain\\brute_force_optimization.py\u001b[0m in \u001b[0;36mfind_in_graph\u001b[1;34m(scope_prefix, graph)\u001b[0m\n\u001b[0;32m     72\u001b[0m \u001b[1;33m\u001b[0m\u001b[0m\n\u001b[0;32m     73\u001b[0m         return BruteForceOptimization(  \n\u001b[1;32m---> 74\u001b[1;33m                 \u001b[0minitializer\u001b[0m \u001b[1;33m=\u001b[0m \u001b[0mgraph\u001b[0m\u001b[1;33m.\u001b[0m\u001b[0mget_operation_by_name\u001b[0m\u001b[1;33m(\u001b[0m\u001b[0mscope_prefix\u001b[0m \u001b[1;33m+\u001b[0m \u001b[1;34m\"initializer\"\u001b[0m\u001b[1;33m)\u001b[0m\u001b[1;33m,\u001b[0m\u001b[1;33m\u001b[0m\u001b[0m\n\u001b[0m\u001b[0;32m     75\u001b[0m                 step_sequence = [\n\u001b[0;32m     76\u001b[0m                     \u001b[0mgraph\u001b[0m\u001b[1;33m.\u001b[0m\u001b[0mget_operation_by_name\u001b[0m\u001b[1;33m(\u001b[0m\u001b[0mscope_prefix\u001b[0m \u001b[1;33m+\u001b[0m \u001b[1;34m\"s\"\u001b[0m \u001b[1;33m+\u001b[0m \u001b[0mstr\u001b[0m\u001b[1;33m(\u001b[0m\u001b[0mi\u001b[0m\u001b[1;33m)\u001b[0m\u001b[1;33m)\u001b[0m\u001b[1;33m\u001b[0m\u001b[0m\n",
      "\u001b[1;32mE:\\Pista\\WinPython\\python-3.6.5.amd64\\lib\\site-packages\\tensorflow\\python\\framework\\ops.py\u001b[0m in \u001b[0;36mget_operation_by_name\u001b[1;34m(self, name)\u001b[0m\n\u001b[0;32m   3604\u001b[0m       raise TypeError(\"Operation names are strings (or similar), not %s.\" %\n\u001b[0;32m   3605\u001b[0m                       type(name).__name__)\n\u001b[1;32m-> 3606\u001b[1;33m     \u001b[1;32mreturn\u001b[0m \u001b[0mself\u001b[0m\u001b[1;33m.\u001b[0m\u001b[0mas_graph_element\u001b[0m\u001b[1;33m(\u001b[0m\u001b[0mname\u001b[0m\u001b[1;33m,\u001b[0m \u001b[0mallow_tensor\u001b[0m\u001b[1;33m=\u001b[0m\u001b[1;32mFalse\u001b[0m\u001b[1;33m,\u001b[0m \u001b[0mallow_operation\u001b[0m\u001b[1;33m=\u001b[0m\u001b[1;32mTrue\u001b[0m\u001b[1;33m)\u001b[0m\u001b[1;33m\u001b[0m\u001b[0m\n\u001b[0m\u001b[0;32m   3607\u001b[0m \u001b[1;33m\u001b[0m\u001b[0m\n\u001b[0;32m   3608\u001b[0m   \u001b[1;32mdef\u001b[0m \u001b[0m_get_operation_by_name_unsafe\u001b[0m\u001b[1;33m(\u001b[0m\u001b[0mself\u001b[0m\u001b[1;33m,\u001b[0m \u001b[0mname\u001b[0m\u001b[1;33m)\u001b[0m\u001b[1;33m:\u001b[0m\u001b[1;33m\u001b[0m\u001b[0m\n",
      "\u001b[1;32mE:\\Pista\\WinPython\\python-3.6.5.amd64\\lib\\site-packages\\tensorflow\\python\\framework\\ops.py\u001b[0m in \u001b[0;36mas_graph_element\u001b[1;34m(self, obj, allow_tensor, allow_operation)\u001b[0m\n\u001b[0;32m   3476\u001b[0m \u001b[1;33m\u001b[0m\u001b[0m\n\u001b[0;32m   3477\u001b[0m     \u001b[1;32mwith\u001b[0m \u001b[0mself\u001b[0m\u001b[1;33m.\u001b[0m\u001b[0m_lock\u001b[0m\u001b[1;33m:\u001b[0m\u001b[1;33m\u001b[0m\u001b[0m\n\u001b[1;32m-> 3478\u001b[1;33m       \u001b[1;32mreturn\u001b[0m \u001b[0mself\u001b[0m\u001b[1;33m.\u001b[0m\u001b[0m_as_graph_element_locked\u001b[0m\u001b[1;33m(\u001b[0m\u001b[0mobj\u001b[0m\u001b[1;33m,\u001b[0m \u001b[0mallow_tensor\u001b[0m\u001b[1;33m,\u001b[0m \u001b[0mallow_operation\u001b[0m\u001b[1;33m)\u001b[0m\u001b[1;33m\u001b[0m\u001b[0m\n\u001b[0m\u001b[0;32m   3479\u001b[0m \u001b[1;33m\u001b[0m\u001b[0m\n\u001b[0;32m   3480\u001b[0m   \u001b[1;32mdef\u001b[0m \u001b[0m_as_graph_element_locked\u001b[0m\u001b[1;33m(\u001b[0m\u001b[0mself\u001b[0m\u001b[1;33m,\u001b[0m \u001b[0mobj\u001b[0m\u001b[1;33m,\u001b[0m \u001b[0mallow_tensor\u001b[0m\u001b[1;33m,\u001b[0m \u001b[0mallow_operation\u001b[0m\u001b[1;33m)\u001b[0m\u001b[1;33m:\u001b[0m\u001b[1;33m\u001b[0m\u001b[0m\n",
      "\u001b[1;32mE:\\Pista\\WinPython\\python-3.6.5.amd64\\lib\\site-packages\\tensorflow\\python\\framework\\ops.py\u001b[0m in \u001b[0;36m_as_graph_element_locked\u001b[1;34m(self, obj, allow_tensor, allow_operation)\u001b[0m\n\u001b[0;32m   3536\u001b[0m         \u001b[1;32mif\u001b[0m \u001b[0mname\u001b[0m \u001b[1;32mnot\u001b[0m \u001b[1;32min\u001b[0m \u001b[0mself\u001b[0m\u001b[1;33m.\u001b[0m\u001b[0m_nodes_by_name\u001b[0m\u001b[1;33m:\u001b[0m\u001b[1;33m\u001b[0m\u001b[0m\n\u001b[0;32m   3537\u001b[0m           raise KeyError(\"The name %s refers to an Operation not in the \"\n\u001b[1;32m-> 3538\u001b[1;33m                          \"graph.\" % repr(name))\n\u001b[0m\u001b[0;32m   3539\u001b[0m         \u001b[1;32mreturn\u001b[0m \u001b[0mself\u001b[0m\u001b[1;33m.\u001b[0m\u001b[0m_nodes_by_name\u001b[0m\u001b[1;33m[\u001b[0m\u001b[0mname\u001b[0m\u001b[1;33m]\u001b[0m\u001b[1;33m\u001b[0m\u001b[0m\n\u001b[0;32m   3540\u001b[0m \u001b[1;33m\u001b[0m\u001b[0m\n",
      "\u001b[1;31mKeyError\u001b[0m: \"The name 'brute/initializer' refers to an Operation not in the graph.\""
     ]
    }
   ],
   "source": [
    "brute = BruteForceOptimization.find_in_graph(\"brute\")"
   ]
  },
  {
   "cell_type": "code",
   "execution_count": 50,
   "metadata": {},
   "outputs": [],
   "source": [
    "grad_desc = GragientDescentWithBacktracking.find_in_graph(\"grad_desc\")"
   ]
  },
  {
   "cell_type": "markdown",
   "metadata": {},
   "source": [
    "## Run it"
   ]
  },
  {
   "cell_type": "code",
   "execution_count": 51,
   "metadata": {},
   "outputs": [
    {
     "data": {
      "text/plain": [
       "array([2., 8., 5., 5.], dtype=float32)"
      ]
     },
     "execution_count": 51,
     "metadata": {},
     "output_type": "execute_result"
    }
   ],
   "source": [
    "sess.run(x.initializer)\n",
    "sess.run(f)"
   ]
  },
  {
   "cell_type": "code",
   "execution_count": 52,
   "metadata": {},
   "outputs": [
    {
     "name": "stdout",
     "output_type": "stream",
     "text": [
      "[0. 2. 1. 1.]\n"
     ]
    }
   ],
   "source": [
    "## Brute optimization\n",
    "brute.run_initializer()\n",
    "for x_prop in xxx:\n",
    "    brute.run_train_step(x_prop)\n",
    "    \n",
    "print(sess.run(f))"
   ]
  },
  {
   "cell_type": "code",
   "execution_count": 53,
   "metadata": {},
   "outputs": [
    {
     "name": "stdout",
     "output_type": "stream",
     "text": [
      "[0.000000e+00 5.858169e-09 0.000000e+00 0.000000e+00]\n"
     ]
    }
   ],
   "source": [
    "## Gradient descent\n",
    "grad_desc.run_initializer()\n",
    "for i in range(20):\n",
    "    grad_desc.run_train_step()\n",
    "   \n",
    "print(sess.run(f))"
   ]
  }
 ],
 "metadata": {
  "kernelspec": {
   "display_name": "Python 3",
   "language": "python",
   "name": "python3"
  },
  "language_info": {
   "codemirror_mode": {
    "name": "ipython",
    "version": 3
   },
   "file_extension": ".py",
   "mimetype": "text/x-python",
   "name": "python",
   "nbconvert_exporter": "python",
   "pygments_lexer": "ipython3",
   "version": "3.6.5"
  },
  "toc": {
   "base_numbering": 1,
   "nav_menu": {
    "height": "12px",
    "width": "252px"
   },
   "number_sections": true,
   "sideBar": true,
   "skip_h1_title": false,
   "title_cell": "Table of Contents",
   "title_sidebar": "Contents",
   "toc_cell": false,
   "toc_position": {},
   "toc_section_display": "block",
   "toc_window_display": false
  }
 },
 "nbformat": 4,
 "nbformat_minor": 2
}
