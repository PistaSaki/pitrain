{
 "cells": [
  {
   "cell_type": "code",
   "execution_count": 1,
   "metadata": {},
   "outputs": [],
   "source": [
    "import tensorflow as tf\n",
    "import numpy as np\n",
    "from pitrain.wolfe_line_search import Wolfe_Line_Search"
   ]
  },
  {
   "cell_type": "markdown",
   "metadata": {},
   "source": [
    "## Prepare `f`, `df` \n",
    "`f` will be a tensorflow function of several tensor arguments."
   ]
  },
  {
   "cell_type": "code",
   "execution_count": 2,
   "metadata": {},
   "outputs": [],
   "source": [
    "floatX = np.float32\n",
    "sess = tf.InteractiveSession()"
   ]
  },
  {
   "cell_type": "code",
   "execution_count": 3,
   "metadata": {},
   "outputs": [
    {
     "data": {
      "text/plain": [
       "[None, None]"
      ]
     },
     "execution_count": 3,
     "metadata": {},
     "output_type": "execute_result"
    }
   ],
   "source": [
    "u = tf.Variable([1, 1], name = \"u\", dtype = floatX)\n",
    "v = tf.Variable([1, 1], name = \"v\", dtype = floatX)\n",
    "sess.run([u.initializer, v.initializer])"
   ]
  },
  {
   "cell_type": "code",
   "execution_count": 4,
   "metadata": {},
   "outputs": [],
   "source": [
    "f = tf.reduce_sum(u**2) + tf.reduce_sum(v**2)"
   ]
  },
  {
   "cell_type": "code",
   "execution_count": 5,
   "metadata": {},
   "outputs": [],
   "source": [
    "df = tf.gradients(f, [u, v])"
   ]
  },
  {
   "cell_type": "code",
   "execution_count": 6,
   "metadata": {},
   "outputs": [
    {
     "data": {
      "text/plain": [
       "[4.0, [array([2., 2.], dtype=float32), array([2., 2.], dtype=float32)]]"
      ]
     },
     "execution_count": 6,
     "metadata": {},
     "output_type": "execute_result"
    }
   ],
   "source": [
    "sess.run([f, df])"
   ]
  },
  {
   "cell_type": "markdown",
   "metadata": {},
   "source": [
    "## Ordinary python function of one vector variable\n",
    "To turn `f` into a function of one numpy vector variable we use an axilliary class `Splitter`."
   ]
  },
  {
   "cell_type": "code",
   "execution_count": 14,
   "metadata": {},
   "outputs": [],
   "source": [
    "from pitrain.splitter import Splitter"
   ]
  },
  {
   "cell_type": "code",
   "execution_count": 8,
   "metadata": {},
   "outputs": [],
   "source": [
    "splitter = Splitter([u, v])"
   ]
  },
  {
   "cell_type": "code",
   "execution_count": 11,
   "metadata": {},
   "outputs": [],
   "source": [
    "def F(x):\n",
    "    return sess.run(f, feed_dict = splitter.split_dic(x))\n",
    "\n",
    "def dF(x):\n",
    "    grads = sess.run(\n",
    "        df, \n",
    "        feed_dict = splitter.split_dic(x)\n",
    "    )\n",
    "    return splitter.join(grads)"
   ]
  },
  {
   "cell_type": "code",
   "execution_count": 15,
   "metadata": {},
   "outputs": [
    {
     "name": "stdout",
     "output_type": "stream",
     "text": [
      "[1. 1. 1. 1.]\n",
      "4.0\n",
      "[2. 2. 2. 2.]\n"
     ]
    }
   ],
   "source": [
    "x0 = splitter.current_x()\n",
    "print(x0)\n",
    "print(F(x0))\n",
    "print(dF(x0))"
   ]
  },
  {
   "cell_type": "markdown",
   "metadata": {},
   "source": [
    "## Optimization"
   ]
  },
  {
   "cell_type": "code",
   "execution_count": 31,
   "metadata": {},
   "outputs": [],
   "source": [
    "from importlib import reload\n",
    "import pitrain.misc\n",
    "reload(pitrain.misc)\n",
    "import pitrain.wolfe_line_search\n",
    "reload(pitrain.wolfe_line_search)\n",
    "\n",
    "from pitrain.wolfe_line_search import Wolfe_Line_Search, BFGS_update_B\n",
    "import numpy.linalg as la\n",
    "#from pitrain.misc import BFGS_update_B\n"
   ]
  },
  {
   "cell_type": "code",
   "execution_count": 26,
   "metadata": {},
   "outputs": [],
   "source": [
    "wolfe_lin_srch = Wolfe_Line_Search(\n",
    "    f = F, df = dF,\n",
    "    \n",
    "    c1=0.01, c2=0.4,\n",
    "    \n",
    "    max_noof_bracketing_steps=20, \n",
    "    max_noof_zooming_steps=40,\n",
    ")"
   ]
  },
  {
   "cell_type": "code",
   "execution_count": 29,
   "metadata": {},
   "outputs": [],
   "source": [
    "# initialization\n",
    "X = x0 = splitter.current_x()\n",
    "F_X = F(X)\n",
    "dF_X = dF(X)"
   ]
  },
  {
   "cell_type": "code",
   "execution_count": 32,
   "metadata": {},
   "outputs": [
    {
     "name": "stdout",
     "output_type": "stream",
     "text": [
      "X = [1. 1. 1. 1.]\n",
      "F_X = 4.0\n",
      "dF_X = [2. 2. 2. 2.]\n",
      "B= [[1000000.       0.       0.       0.]\n",
      " [      0. 1000000.       0.       0.]\n",
      " [      0.       0. 1000000.       0.]\n",
      " [      0.       0.       0. 1000000.]]\n"
     ]
    }
   ],
   "source": [
    "## take an initial guess on B.\n",
    "learning_rate_2 = 0.000001\n",
    "H = learning_rate_2 * np.eye(len(X))\n",
    "B = la.inv(H)\n",
    "\n",
    "## print\n",
    "print(\"X = {}\".format(X))\n",
    "print(\"F_X = {}\".format(F_X))\n",
    "print(\"dF_X = {}\".format(dF_X))\n",
    "print(\"B= {}\".format(B))"
   ]
  },
  {
   "cell_type": "code",
   "execution_count": 33,
   "metadata": {},
   "outputs": [
    {
     "name": "stdout",
     "output_type": "stream",
     "text": [
      "New bracketing step with a_prev=0; a=1\n",
      "Our a=1 seems not to be large enough. Try with larger a =2\n",
      "New bracketing step with a_prev=1; a=2\n",
      "Our a=2 seems not to be large enough. Try with larger a =4\n",
      "New bracketing step with a_prev=2; a=4\n",
      "Our a=4 seems not to be large enough. Try with larger a =8\n",
      "New bracketing step with a_prev=4; a=8\n",
      "Our a=8 seems not to be large enough. Try with larger a =16\n",
      "New bracketing step with a_prev=8; a=16\n",
      "Our a=16 seems not to be large enough. Try with larger a =32\n",
      "New bracketing step with a_prev=16; a=32\n",
      "Our a=32 seems not to be large enough. Try with larger a =64\n",
      "New bracketing step with a_prev=32; a=64\n",
      "Our a=64 seems not to be large enough. Try with larger a =128\n",
      "New bracketing step with a_prev=64; a=128\n",
      "Our a=128 seems not to be large enough. Try with larger a =256\n",
      "New bracketing step with a_prev=128; a=256\n",
      "Our a=256 seems not to be large enough. Try with larger a =512\n",
      "New bracketing step with a_prev=256; a=512\n",
      "Our a=512 seems not to be large enough. Try with larger a =1024\n",
      "New bracketing step with a_prev=512; a=1024\n",
      "Our a=1024 seems not to be large enough. Try with larger a =2048\n",
      "New bracketing step with a_prev=1024; a=2048\n",
      "Our a=2048 seems not to be large enough. Try with larger a =4096\n",
      "New bracketing step with a_prev=2048; a=4096\n",
      "Our a=4096 seems not to be large enough. Try with larger a =8192\n",
      "New bracketing step with a_prev=4096; a=8192\n",
      "Our a=8192 seems not to be large enough. Try with larger a =16384\n",
      "New bracketing step with a_prev=8192; a=16384\n",
      "Our a=16384 seems not to be large enough. Try with larger a =32768\n",
      "New bracketing step with a_prev=16384; a=32768\n",
      "Our a=32768 seems not to be large enough. Try with larger a =65536\n",
      "New bracketing step with a_prev=32768; a=65536\n",
      "Our a=65536 seems not to be large enough. Try with larger a =131072\n",
      "New bracketing step with a_prev=65536; a=131072\n",
      "Our a=131072 seems not to be large enough. Try with larger a =262144\n",
      "New bracketing step with a_prev=131072; a=262144\n",
      "Our a=262144 seems not to be large enough. Try with larger a =524288\n",
      "New bracketing step with a_prev=262144; a=524288\n",
      "You are done and you can use alpha =524288\n",
      "x =[-0.048576 -0.048576 -0.048576 -0.048576]; f(x) = 0.009438511915504932\n",
      "New bracketing step with a_prev=0; a=1\n",
      "You are done and you can use alpha =1\n",
      "x =[1.14803525e-09 1.14803525e-09 1.14803525e-09 1.14803525e-09]; f(x) = 5.271939681155666e-18\n",
      "New bracketing step with a_prev=0; a=1\n",
      "You are done and you can use alpha =1\n",
      "x =[7.37886625e-17 7.37886625e-17 7.37886623e-17 7.37886623e-17]; f(x) = 2.1779065624407998e-32\n",
      "New bracketing step with a_prev=0; a=1\n",
      "You are done and you can use alpha =1\n",
      "x =[-1.87564021e-24 -1.87564021e-24 -2.08243539e-24 -2.08243539e-24]; f(x) = 0.0\n",
      "New bracketing step with a_prev=0; a=1\n",
      "Sufficient descent fails.\n",
      "phi_a >= phi_a_prev\n",
      "You can start zooming with a_lo=0, a_hi=1\n",
      "New zooming step with a_lo = 0; a_hi = 1\n",
      "New zooming step with a_lo = 0; a_hi = 0.5\n",
      "New zooming step with a_lo = 0; a_hi = 0.25\n",
      "New zooming step with a_lo = 0; a_hi = 0.125\n",
      "New zooming step with a_lo = 0; a_hi = 0.0625\n",
      "New zooming step with a_lo = 0; a_hi = 0.03125\n",
      "New zooming step with a_lo = 0; a_hi = 0.015625\n",
      "New zooming step with a_lo = 0; a_hi = 0.0078125\n",
      "New zooming step with a_lo = 0; a_hi = 0.00390625\n",
      "New zooming step with a_lo = 0; a_hi = 0.001953125\n",
      "New zooming step with a_lo = 0; a_hi = 0.0009765625\n",
      "New zooming step with a_lo = 0; a_hi = 0.00048828125\n",
      "New zooming step with a_lo = 0; a_hi = 0.000244140625\n",
      "New zooming step with a_lo = 0; a_hi = 0.0001220703125\n",
      "New zooming step with a_lo = 0; a_hi = 6.103515625e-05\n",
      "New zooming step with a_lo = 0; a_hi = 3.0517578125e-05\n",
      "New zooming step with a_lo = 0; a_hi = 1.52587890625e-05\n",
      "New zooming step with a_lo = 0; a_hi = 7.62939453125e-06\n",
      "New zooming step with a_lo = 0; a_hi = 3.814697265625e-06\n",
      "New zooming step with a_lo = 0; a_hi = 1.9073486328125e-06\n",
      "New zooming step with a_lo = 0; a_hi = 9.5367431640625e-07\n",
      "New zooming step with a_lo = 0; a_hi = 4.76837158203125e-07\n",
      "New zooming step with a_lo = 0; a_hi = 2.384185791015625e-07\n",
      "New zooming step with a_lo = 0; a_hi = 1.1920928955078125e-07\n",
      "New zooming step with a_lo = 0; a_hi = 5.960464477539063e-08\n",
      "New zooming step with a_lo = 0; a_hi = 2.9802322387695312e-08\n",
      "New zooming step with a_lo = 0; a_hi = 1.4901161193847656e-08\n",
      "New zooming step with a_lo = 0; a_hi = 7.450580596923828e-09\n",
      "New zooming step with a_lo = 0; a_hi = 3.725290298461914e-09\n",
      "New zooming step with a_lo = 0; a_hi = 1.862645149230957e-09\n",
      "New zooming step with a_lo = 0; a_hi = 9.313225746154785e-10\n",
      "New zooming step with a_lo = 0; a_hi = 4.656612873077393e-10\n",
      "New zooming step with a_lo = 0; a_hi = 2.3283064365386963e-10\n",
      "New zooming step with a_lo = 0; a_hi = 1.1641532182693481e-10\n",
      "New zooming step with a_lo = 0; a_hi = 5.820766091346741e-11\n",
      "New zooming step with a_lo = 0; a_hi = 2.9103830456733704e-11\n",
      "New zooming step with a_lo = 0; a_hi = 1.4551915228366852e-11\n",
      "New zooming step with a_lo = 0; a_hi = 7.275957614183426e-12\n",
      "New zooming step with a_lo = 0; a_hi = 3.637978807091713e-12\n",
      "New zooming step with a_lo = 0; a_hi = 1.8189894035458565e-12\n"
     ]
    },
    {
     "ename": "Exception",
     "evalue": "Too many steps in zooming phase.",
     "output_type": "error",
     "traceback": [
      "\u001b[1;31m---------------------------------------------------------------------------\u001b[0m",
      "\u001b[1;31mException\u001b[0m                                 Traceback (most recent call last)",
      "\u001b[1;32m<ipython-input-33-ff135b34c185>\u001b[0m in \u001b[0;36m<module>\u001b[1;34m()\u001b[0m\n\u001b[0;32m      9\u001b[0m         \u001b[0mx\u001b[0m \u001b[1;33m=\u001b[0m \u001b[0mX\u001b[0m\u001b[1;33m,\u001b[0m \u001b[0mp\u001b[0m \u001b[1;33m=\u001b[0m \u001b[0mP\u001b[0m\u001b[1;33m,\u001b[0m\u001b[1;33m\u001b[0m\u001b[0m\n\u001b[0;32m     10\u001b[0m         \u001b[0mf_x\u001b[0m \u001b[1;33m=\u001b[0m \u001b[0mF_X\u001b[0m\u001b[1;33m,\u001b[0m \u001b[0mdf_x\u001b[0m \u001b[1;33m=\u001b[0m \u001b[0mdF_X\u001b[0m\u001b[1;33m,\u001b[0m\u001b[1;33m\u001b[0m\u001b[0m\n\u001b[1;32m---> 11\u001b[1;33m         \u001b[0malpha_init\u001b[0m \u001b[1;33m=\u001b[0m \u001b[1;36m1\u001b[0m\u001b[1;33m\u001b[0m\u001b[0m\n\u001b[0m\u001b[0;32m     12\u001b[0m     )\n\u001b[0;32m     13\u001b[0m \u001b[1;33m\u001b[0m\u001b[0m\n",
      "\u001b[1;32mD:\\python_source\\pitrain\\pitrain\\wolfe_line_search.py\u001b[0m in \u001b[0;36msearch\u001b[1;34m(self, x, p, f_x, df_x, alpha_init, alpha_max)\u001b[0m\n\u001b[0;32m    330\u001b[0m             \u001b[0mprinting\u001b[0m \u001b[1;33m=\u001b[0m \u001b[0mself\u001b[0m\u001b[1;33m.\u001b[0m\u001b[0mprinting\u001b[0m\u001b[1;33m,\u001b[0m\u001b[1;33m\u001b[0m\u001b[0m\n\u001b[0;32m    331\u001b[0m             \u001b[0max\u001b[0m \u001b[1;33m=\u001b[0m \u001b[0mself\u001b[0m\u001b[1;33m.\u001b[0m\u001b[0max\u001b[0m\u001b[1;33m,\u001b[0m\u001b[1;33m\u001b[0m\u001b[0m\n\u001b[1;32m--> 332\u001b[1;33m             \u001b[0mplotting_params\u001b[0m \u001b[1;33m=\u001b[0m \u001b[0mself\u001b[0m\u001b[1;33m.\u001b[0m\u001b[0mplotting_params\u001b[0m\u001b[1;33m\u001b[0m\u001b[0m\n\u001b[0m\u001b[0;32m    333\u001b[0m         )\n\u001b[0;32m    334\u001b[0m \u001b[1;33m\u001b[0m\u001b[0m\n",
      "\u001b[1;32mD:\\python_source\\pitrain\\pitrain\\wolfe_line_search.py\u001b[0m in \u001b[0;36mwolfe_linear_search\u001b[1;34m(phi, d_phi, alpha_init, c1, c2, phi_0, d_phi_0, alpha_max, bracketing_augment_method, max_noof_bracketing_steps, max_noof_zooming_steps, printing, ax, plotting_params)\u001b[0m\n\u001b[0;32m    237\u001b[0m             \u001b[0mphi_a_lo\u001b[0m \u001b[1;33m=\u001b[0m \u001b[0mphi_a\u001b[0m\u001b[1;33m\u001b[0m\u001b[0m\n\u001b[0;32m    238\u001b[0m     \u001b[1;32melse\u001b[0m\u001b[1;33m:\u001b[0m\u001b[1;33m\u001b[0m\u001b[0m\n\u001b[1;32m--> 239\u001b[1;33m         \u001b[1;32mraise\u001b[0m \u001b[0mException\u001b[0m\u001b[1;33m(\u001b[0m\u001b[1;34m\"Too many steps in zooming phase.\"\u001b[0m\u001b[1;33m)\u001b[0m\u001b[1;33m\u001b[0m\u001b[0m\n\u001b[0m\u001b[0;32m    240\u001b[0m \u001b[1;33m\u001b[0m\u001b[0m\n\u001b[0;32m    241\u001b[0m \u001b[1;33m\u001b[0m\u001b[0m\n",
      "\u001b[1;31mException\u001b[0m: Too many steps in zooming phase."
     ]
    }
   ],
   "source": [
    "for n in range(400):\n",
    "    # BFGS Method\n",
    "    ## find the direction `p`\n",
    "    P = - la.inv(B) @ dF_X\n",
    "\n",
    "    ## perform the line search ; \n",
    "    ## `lsr` = line search results  \n",
    "    lsr = wolfe_lin_srch.search(\n",
    "        x = X, p = P,\n",
    "        f_x = F_X, df_x = dF_X,\n",
    "        alpha_init = 1\n",
    "    )\n",
    "\n",
    "    ## calculate BFGS update\n",
    "    B = BFGS_update_B(\n",
    "        x0 = X,\n",
    "        df_x0 = dF_X,\n",
    "        B0= B, \n",
    "        x1 = lsr.x_new,\n",
    "        df_x1 = lsr.df_x_new \n",
    "    )\n",
    "\n",
    "    ## update `x, f_x, df_x`\n",
    "    X, F_X, dF_X = lsr.x_new, lsr.f_x_new, lsr.df_x_new\n",
    "    \n",
    "    ## assign the value of `X` to corresponding tensors if you want \n",
    "    # splitter.assign_tensors(X)\n",
    "\n",
    "    ## plotting and printing\n",
    "    #clear_output(True)\n",
    "    print(\"x ={}; f(x) = {}\".format(X, F_X))\n",
    "    "
   ]
  },
  {
   "cell_type": "code",
   "execution_count": 35,
   "metadata": {},
   "outputs": [
    {
     "data": {
      "text/plain": [
       "(0.0, array([-3.7512805e-24, -3.7512805e-24, -4.1648708e-24, -4.1648708e-24],\n",
       "       dtype=float32))"
      ]
     },
     "execution_count": 35,
     "metadata": {},
     "output_type": "execute_result"
    }
   ],
   "source": [
    "F(X), dF(X)"
   ]
  },
  {
   "cell_type": "code",
   "execution_count": 40,
   "metadata": {},
   "outputs": [
    {
     "name": "stdout",
     "output_type": "stream",
     "text": [
      "grad f wrt u:0 is [-3.7512805e-24 -3.7512805e-24]\n",
      "grad f wrt v:0 is [-4.164871e-24 -4.164871e-24]\n"
     ]
    }
   ],
   "source": [
    "for var, grad in splitter.split_dic(dF(X)).items():\n",
    "    print(f\"grad f wrt {var.name} is {grad}\")"
   ]
  },
  {
   "cell_type": "code",
   "execution_count": null,
   "metadata": {},
   "outputs": [],
   "source": []
  }
 ],
 "metadata": {
  "kernelspec": {
   "display_name": "Python 3",
   "language": "python",
   "name": "python3"
  },
  "language_info": {
   "codemirror_mode": {
    "name": "ipython",
    "version": 3
   },
   "file_extension": ".py",
   "mimetype": "text/x-python",
   "name": "python",
   "nbconvert_exporter": "python",
   "pygments_lexer": "ipython3",
   "version": "3.6.6"
  }
 },
 "nbformat": 4,
 "nbformat_minor": 2
}
