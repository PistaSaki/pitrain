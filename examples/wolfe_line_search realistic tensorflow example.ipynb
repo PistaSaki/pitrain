{
 "cells": [
  {
   "cell_type": "code",
   "execution_count": 1,
   "metadata": {},
   "outputs": [],
   "source": [
    "import tensorflow as tf\n",
    "import numpy as np\n",
    "from pitrain.wolfe_line_search import Wolfe_Line_Search"
   ]
  },
  {
   "cell_type": "markdown",
   "metadata": {},
   "source": [
    "## Prepare `f`, `df` \n",
    "`f` will be a tensorflow function of several tensor arguments."
   ]
  },
  {
   "cell_type": "code",
   "execution_count": 2,
   "metadata": {},
   "outputs": [],
   "source": [
    "floatX = np.float32\n",
    "sess = tf.InteractiveSession()"
   ]
  },
  {
   "cell_type": "code",
   "execution_count": 3,
   "metadata": {},
   "outputs": [
    {
     "data": {
      "text/plain": [
       "[None, None]"
      ]
     },
     "execution_count": 3,
     "metadata": {},
     "output_type": "execute_result"
    }
   ],
   "source": [
    "u = tf.Variable([1, 1], name = \"u\", dtype = floatX)\n",
    "v = tf.Variable([1, 1], name = \"v\", dtype = floatX)\n",
    "sess.run([u.initializer, v.initializer])"
   ]
  },
  {
   "cell_type": "code",
   "execution_count": 4,
   "metadata": {},
   "outputs": [],
   "source": [
    "f = tf.reduce_sum(u**2) + tf.reduce_sum(v**2)"
   ]
  },
  {
   "cell_type": "code",
   "execution_count": 5,
   "metadata": {},
   "outputs": [],
   "source": [
    "df = tf.gradients(f, [u, v])"
   ]
  },
  {
   "cell_type": "code",
   "execution_count": 6,
   "metadata": {},
   "outputs": [
    {
     "data": {
      "text/plain": [
       "[4.0, [array([2., 2.], dtype=float32), array([2., 2.], dtype=float32)]]"
      ]
     },
     "execution_count": 6,
     "metadata": {},
     "output_type": "execute_result"
    }
   ],
   "source": [
    "sess.run([f, df])"
   ]
  },
  {
   "cell_type": "markdown",
   "metadata": {},
   "source": [
    "## Ordinary python function of one vector variable\n",
    "To turn `f` into a function of one numpy vector variable we use an axilliary class `Splitter`."
   ]
  },
  {
   "cell_type": "code",
   "execution_count": 7,
   "metadata": {},
   "outputs": [],
   "source": [
    "from pitrain.splitter import Splitter"
   ]
  },
  {
   "cell_type": "code",
   "execution_count": 8,
   "metadata": {},
   "outputs": [],
   "source": [
    "splitter = Splitter([u, v])"
   ]
  },
  {
   "cell_type": "code",
   "execution_count": 9,
   "metadata": {},
   "outputs": [],
   "source": [
    "def F(x):\n",
    "    return sess.run(f, feed_dict = splitter.split_dic(x))\n",
    "\n",
    "def dF(x):\n",
    "    grads = sess.run(\n",
    "        df, \n",
    "        feed_dict = splitter.split_dic(x)\n",
    "    )\n",
    "    return splitter.join(grads)"
   ]
  },
  {
   "cell_type": "code",
   "execution_count": 10,
   "metadata": {},
   "outputs": [
    {
     "name": "stdout",
     "output_type": "stream",
     "text": [
      "[1. 1. 1. 1.]\n",
      "4.0\n",
      "[2. 2. 2. 2.]\n"
     ]
    }
   ],
   "source": [
    "x0 = splitter.current_x()\n",
    "print(x0)\n",
    "print(F(x0))\n",
    "print(dF(x0))"
   ]
  },
  {
   "cell_type": "markdown",
   "metadata": {},
   "source": [
    "## Optimization"
   ]
  },
  {
   "cell_type": "code",
   "execution_count": 16,
   "metadata": {},
   "outputs": [],
   "source": [
    "from pitrain.wolfe_line_search import Wolfe_Line_Search, BFGS_update_B, WolfeLineSearchException\n",
    "import numpy.linalg as la"
   ]
  },
  {
   "cell_type": "code",
   "execution_count": 12,
   "metadata": {},
   "outputs": [],
   "source": [
    "wolfe_lin_srch = Wolfe_Line_Search(\n",
    "    f = F, df = dF,\n",
    "    \n",
    "    c1=0.01, c2=0.4,\n",
    "    \n",
    "    max_noof_bracketing_steps=20, \n",
    "    max_noof_zooming_steps=40,\n",
    ")"
   ]
  },
  {
   "cell_type": "code",
   "execution_count": 13,
   "metadata": {},
   "outputs": [],
   "source": [
    "# initialization\n",
    "X = x0 = splitter.current_x()\n",
    "F_X = F(X)\n",
    "dF_X = dF(X)"
   ]
  },
  {
   "cell_type": "code",
   "execution_count": 14,
   "metadata": {},
   "outputs": [
    {
     "name": "stdout",
     "output_type": "stream",
     "text": [
      "X = [1. 1. 1. 1.]\n",
      "F_X = 4.0\n",
      "dF_X = [2. 2. 2. 2.]\n",
      "B= [[1000000.       0.       0.       0.]\n",
      " [      0. 1000000.       0.       0.]\n",
      " [      0.       0. 1000000.       0.]\n",
      " [      0.       0.       0. 1000000.]]\n"
     ]
    }
   ],
   "source": [
    "## take an initial guess on B.\n",
    "learning_rate_2 = 0.000001\n",
    "H = learning_rate_2 * np.eye(len(X))\n",
    "B = la.inv(H)\n",
    "\n",
    "## print\n",
    "print(\"X = {}\".format(X))\n",
    "print(\"F_X = {}\".format(F_X))\n",
    "print(\"dF_X = {}\".format(dF_X))\n",
    "print(\"B= {}\".format(B))"
   ]
  },
  {
   "cell_type": "code",
   "execution_count": 17,
   "metadata": {},
   "outputs": [
    {
     "name": "stdout",
     "output_type": "stream",
     "text": [
      "New bracketing step with a_prev=0; a=1\n",
      "Sufficient descent fails.\n",
      "phi_a >= phi_a_prev\n",
      "You can start zooming with a_lo=0, a_hi=1\n",
      "New zooming step with a_lo = 0; a_hi = 1\n",
      "New zooming step with a_lo = 0; a_hi = 0.5\n",
      "New zooming step with a_lo = 0; a_hi = 0.25\n",
      "New zooming step with a_lo = 0; a_hi = 0.125\n",
      "New zooming step with a_lo = 0; a_hi = 0.0625\n",
      "New zooming step with a_lo = 0; a_hi = 0.03125\n",
      "New zooming step with a_lo = 0; a_hi = 0.015625\n",
      "New zooming step with a_lo = 0; a_hi = 0.0078125\n",
      "New zooming step with a_lo = 0; a_hi = 0.00390625\n",
      "New zooming step with a_lo = 0; a_hi = 0.001953125\n",
      "New zooming step with a_lo = 0; a_hi = 0.0009765625\n",
      "New zooming step with a_lo = 0; a_hi = 0.00048828125\n",
      "New zooming step with a_lo = 0; a_hi = 0.000244140625\n",
      "New zooming step with a_lo = 0; a_hi = 0.0001220703125\n",
      "New zooming step with a_lo = 0; a_hi = 6.103515625e-05\n",
      "New zooming step with a_lo = 0; a_hi = 3.0517578125e-05\n",
      "New zooming step with a_lo = 0; a_hi = 1.52587890625e-05\n",
      "New zooming step with a_lo = 0; a_hi = 7.62939453125e-06\n",
      "New zooming step with a_lo = 0; a_hi = 3.814697265625e-06\n",
      "New zooming step with a_lo = 0; a_hi = 1.9073486328125e-06\n",
      "New zooming step with a_lo = 0; a_hi = 9.5367431640625e-07\n",
      "New zooming step with a_lo = 0; a_hi = 4.76837158203125e-07\n",
      "New zooming step with a_lo = 0; a_hi = 2.384185791015625e-07\n",
      "New zooming step with a_lo = 0; a_hi = 1.1920928955078125e-07\n",
      "New zooming step with a_lo = 0; a_hi = 5.960464477539063e-08\n",
      "New zooming step with a_lo = 0; a_hi = 2.9802322387695312e-08\n",
      "New zooming step with a_lo = 0; a_hi = 1.4901161193847656e-08\n",
      "New zooming step with a_lo = 0; a_hi = 7.450580596923828e-09\n",
      "New zooming step with a_lo = 0; a_hi = 3.725290298461914e-09\n",
      "New zooming step with a_lo = 0; a_hi = 1.862645149230957e-09\n",
      "New zooming step with a_lo = 0; a_hi = 9.313225746154785e-10\n",
      "New zooming step with a_lo = 0; a_hi = 4.656612873077393e-10\n",
      "New zooming step with a_lo = 0; a_hi = 2.3283064365386963e-10\n",
      "New zooming step with a_lo = 0; a_hi = 1.1641532182693481e-10\n",
      "New zooming step with a_lo = 0; a_hi = 5.820766091346741e-11\n",
      "New zooming step with a_lo = 0; a_hi = 2.9103830456733704e-11\n",
      "New zooming step with a_lo = 0; a_hi = 1.4551915228366852e-11\n",
      "New zooming step with a_lo = 0; a_hi = 7.275957614183426e-12\n",
      "New zooming step with a_lo = 0; a_hi = 3.637978807091713e-12\n",
      "New zooming step with a_lo = 0; a_hi = 1.8189894035458565e-12\n",
      "Wolfe-line-search raised: Too many steps in zooming phase.\n"
     ]
    }
   ],
   "source": [
    "for n in range(400):\n",
    "    # BFGS Method\n",
    "    ## find the direction `p`\n",
    "    P = - la.inv(B) @ dF_X\n",
    "\n",
    "    ## perform the line search ; \n",
    "    ## `lsr` = line search results \n",
    "    try:\n",
    "        lsr = wolfe_lin_srch.search(\n",
    "            x = X, p = P,\n",
    "            f_x = F_X, df_x = dF_X,\n",
    "            alpha_init = 1\n",
    "        )\n",
    "    except WolfeLineSearchException as exc:\n",
    "        print(\"Wolfe-line-search raised:\", exc)\n",
    "        break\n",
    "\n",
    "    ## calculate BFGS update\n",
    "    B = BFGS_update_B(\n",
    "        x0 = X,\n",
    "        df_x0 = dF_X,\n",
    "        B0= B, \n",
    "        x1 = lsr.x_new,\n",
    "        df_x1 = lsr.df_x_new \n",
    "    )\n",
    "\n",
    "    ## update `x, f_x, df_x`\n",
    "    X, F_X, dF_X = lsr.x_new, lsr.f_x_new, lsr.df_x_new\n",
    "    \n",
    "    ## assign the value of `X` to corresponding tensors if you want \n",
    "    # splitter.assign_tensors(X)\n",
    "\n",
    "    ## plotting and printing\n",
    "    #clear_output(True)\n",
    "    print(\"x ={}; f(x) = {}\".format(X, F_X))\n",
    "    "
   ]
  },
  {
   "cell_type": "code",
   "execution_count": 18,
   "metadata": {},
   "outputs": [
    {
     "data": {
      "text/plain": [
       "(0.0, array([5.0122684e-24, 5.4258587e-24, 5.0122684e-24, 5.0122684e-24],\n",
       "       dtype=float32))"
      ]
     },
     "execution_count": 18,
     "metadata": {},
     "output_type": "execute_result"
    }
   ],
   "source": [
    "F(X), dF(X)"
   ]
  },
  {
   "cell_type": "code",
   "execution_count": 19,
   "metadata": {},
   "outputs": [
    {
     "name": "stdout",
     "output_type": "stream",
     "text": [
      "grad f wrt u:0 is [5.0122684e-24 5.4258587e-24]\n",
      "grad f wrt v:0 is [5.0122684e-24 5.0122684e-24]\n"
     ]
    }
   ],
   "source": [
    "for var, grad in splitter.split_dic(dF(X)).items():\n",
    "    print(f\"grad f wrt {var.name} is {grad}\")"
   ]
  },
  {
   "cell_type": "code",
   "execution_count": null,
   "metadata": {},
   "outputs": [],
   "source": []
  },
  {
   "cell_type": "code",
   "execution_count": null,
   "metadata": {},
   "outputs": [],
   "source": []
  }
 ],
 "metadata": {
  "kernelspec": {
   "display_name": "Python 3",
   "language": "python",
   "name": "python3"
  },
  "language_info": {
   "codemirror_mode": {
    "name": "ipython",
    "version": 3
   },
   "file_extension": ".py",
   "mimetype": "text/x-python",
   "name": "python",
   "nbconvert_exporter": "python",
   "pygments_lexer": "ipython3",
   "version": "3.6.6"
  }
 },
 "nbformat": 4,
 "nbformat_minor": 2
}
